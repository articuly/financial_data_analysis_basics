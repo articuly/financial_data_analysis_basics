{
 "cells": [
  {
   "cell_type": "code",
   "execution_count": 1,
   "metadata": {},
   "outputs": [
    {
     "data": {
      "text/plain": [
       "0     000717.XSHE\n",
       "1     000720.XSHE\n",
       "2     000927.XSHE\n",
       "3     002188.XSHE\n",
       "4     300251.XSHE\n",
       "5     300272.XSHE\n",
       "6     300618.XSHE\n",
       "7     600198.XSHG\n",
       "8     600247.XSHG\n",
       "9     600319.XSHG\n",
       "10    600671.XSHG\n",
       "11    600877.XSHG\n",
       "Name: code, dtype: object"
      ]
     },
     "execution_count": 1,
     "metadata": {},
     "output_type": "execute_result"
    }
   ],
   "source": [
    "import pandas as pd\n",
    "dataframe1 = get_fundamentals( query(indicator).filter(\n",
    "indicator.roe >20\n",
    "                              )\n",
    "                              , date='2018-08-01')\n",
    "dataframe1['code']"
   ]
  },
  {
   "cell_type": "code",
   "execution_count": 2,
   "metadata": {},
   "outputs": [
    {
     "data": {
      "text/plain": [
       "0    000720.XSHE\n",
       "1    002709.XSHE\n",
       "2    300176.XSHE\n",
       "3    300251.XSHE\n",
       "4    300272.XSHE\n",
       "5    300618.XSHE\n",
       "6    600516.XSHG\n",
       "Name: code, dtype: object"
      ]
     },
     "execution_count": 2,
     "metadata": {},
     "output_type": "execute_result"
    }
   ],
   "source": [
    "import pandas as pd\n",
    "dataframe1 = get_fundamentals( query(indicator).filter(\n",
    "indicator.roe > 15  ,\n",
    "indicator.roa > 8\n",
    "                              )\n",
    "                              , date='2018-08-01')\n",
    "dataframe1['code']\n"
   ]
  },
  {
   "cell_type": "code",
   "execution_count": 3,
   "metadata": {},
   "outputs": [
    {
     "data": {
      "text/plain": [
       "0    002866.XSHE\n",
       "1    002922.XSHE\n",
       "2    300046.XSHE\n",
       "3    300492.XSHE\n",
       "4    300586.XSHE\n",
       "5    300731.XSHE\n",
       "6    603713.XSHG\n",
       "7    603895.XSHG\n",
       "Name: code, dtype: object"
      ]
     },
     "execution_count": 3,
     "metadata": {},
     "output_type": "execute_result"
    }
   ],
   "source": [
    "dataframe1 = get_fundamentals( query(indicator).filter(\n",
    "valuation.turnover_ratio > 15  ,\n",
    "balance.total_current_assets > balance.total_current_liability  ,\n",
    "cash_flow.subtotal_operate_cash_inflow > cash_flow.subtotal_operate_cash_outflow ,\n",
    "income.net_profit > 10000  ,\n",
    "indicator.gross_profit_margin > 20 \n",
    "\n",
    "                              )\n",
    "                              , date='2018-08-01')\n",
    "dataframe1['code']\n"
   ]
  },
  {
   "cell_type": "code",
   "execution_count": null,
   "metadata": {},
   "outputs": [],
   "source": []
  }
 ],
 "metadata": {
  "kernelspec": {
   "display_name": "Python 3",
   "language": "python",
   "name": "python3"
  },
  "language_info": {
   "codemirror_mode": {
    "name": "ipython",
    "version": 3
   },
   "file_extension": ".py",
   "mimetype": "text/x-python",
   "name": "python",
   "nbconvert_exporter": "python",
   "pygments_lexer": "ipython3",
   "version": "3.7.7"
  },
  "toc": {
   "base_numbering": 1,
   "nav_menu": {},
   "number_sections": false,
   "sideBar": true,
   "skip_h1_title": false,
   "title_cell": "MarkDown菜单",
   "title_sidebar": "Contents",
   "toc_cell": false,
   "toc_position": {},
   "toc_section_display": true,
   "toc_window_display": false
  }
 },
 "nbformat": 4,
 "nbformat_minor": 4
}
