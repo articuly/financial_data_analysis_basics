{
 "cells": [
  {
   "cell_type": "code",
   "execution_count": 1,
   "metadata": {},
   "outputs": [],
   "source": [
    "import pandas as pd"
   ]
  },
  {
   "cell_type": "code",
   "execution_count": 2,
   "metadata": {},
   "outputs": [],
   "source": [
    "#总市值选股"
   ]
  },
  {
   "cell_type": "code",
   "execution_count": 3,
   "metadata": {},
   "outputs": [
    {
     "data": {
      "text/plain": [
       "0    601939.XSHG\n",
       "1    601398.XSHG\n",
       "Name: code, dtype: object"
      ]
     },
     "execution_count": 3,
     "metadata": {},
     "output_type": "execute_result"
    }
   ],
   "source": [
    "dataframe1 = get_fundamentals( query(valuation).filter(\n",
    "valuation.market_cap > 15000\n",
    "                              )\n",
    "                              , date='2018-08-01')\n",
    "dataframe1['code']"
   ]
  },
  {
   "cell_type": "code",
   "execution_count": 9,
   "metadata": {},
   "outputs": [
    {
     "name": "stdout",
     "output_type": "stream",
     "text": [
      "代码300423的证券名： 中国银行\n"
     ]
    }
   ],
   "source": [
    "print(\"代码300423的证券名：\",get_security_info('601988.XSHG').display_name)"
   ]
  },
  {
   "cell_type": "code",
   "execution_count": 6,
   "metadata": {},
   "outputs": [],
   "source": [
    "#流通市值选股"
   ]
  },
  {
   "cell_type": "code",
   "execution_count": 8,
   "metadata": {},
   "outputs": [
    {
     "data": {
      "text/plain": [
       "0    600036.XSHG\n",
       "1    600028.XSHG\n",
       "2    601318.XSHG\n",
       "3    601988.XSHG\n",
       "4    600519.XSHG\n",
       "5    601288.XSHG\n",
       "6    601857.XSHG\n",
       "7    601398.XSHG\n",
       "Name: code, dtype: object"
      ]
     },
     "execution_count": 8,
     "metadata": {},
     "output_type": "execute_result"
    }
   ],
   "source": [
    "dataframe1 = get_fundamentals( query(valuation).filter(\n",
    "valuation.circulating_market_cap > 5000\n",
    "                              )\n",
    "                              , date='2018-08-01')\n",
    "dataframe1['code']"
   ]
  },
  {
   "cell_type": "code",
   "execution_count": null,
   "metadata": {},
   "outputs": [],
   "source": [
    "#总股本选股"
   ]
  },
  {
   "cell_type": "code",
   "execution_count": 10,
   "metadata": {},
   "outputs": [
    {
     "data": {
      "text/plain": [
       "0    601288.XSHG\n",
       "1    601398.XSHG\n",
       "2    601939.XSHG\n",
       "3    601988.XSHG\n",
       "Name: code, dtype: object"
      ]
     },
     "execution_count": 10,
     "metadata": {},
     "output_type": "execute_result"
    }
   ],
   "source": [
    "dataframe1 = get_fundamentals( query(valuation).filter(\n",
    "valuation.capitalization > 20000000\n",
    "                              )\n",
    "                              , date='2018-08-01')\n",
    "dataframe1['code']"
   ]
  },
  {
   "cell_type": "code",
   "execution_count": null,
   "metadata": {},
   "outputs": [],
   "source": [
    "#流通股本选股"
   ]
  },
  {
   "cell_type": "code",
   "execution_count": 11,
   "metadata": {},
   "outputs": [
    {
     "data": {
      "text/plain": [
       "0    601988.XSHG\n",
       "1    601288.XSHG\n",
       "2    601857.XSHG\n",
       "3    601398.XSHG\n",
       "Name: code, dtype: object"
      ]
     },
     "execution_count": 11,
     "metadata": {},
     "output_type": "execute_result"
    }
   ],
   "source": [
    "dataframe1 = get_fundamentals( query(valuation).filter(\n",
    "valuation.circulating_cap > 10000000 ,\n",
    "valuation.circulating_market_cap > 6000\n",
    "                              )\n",
    "                              , date='2018-08-01')\n",
    "dataframe1['code']"
   ]
  },
  {
   "cell_type": "code",
   "execution_count": null,
   "metadata": {},
   "outputs": [],
   "source": []
  },
  {
   "cell_type": "code",
   "execution_count": null,
   "metadata": {},
   "outputs": [],
   "source": []
  },
  {
   "cell_type": "code",
   "execution_count": null,
   "metadata": {},
   "outputs": [],
   "source": []
  }
 ],
 "metadata": {
  "kernelspec": {
   "display_name": "Python 3",
   "language": "python",
   "name": "python3"
  },
  "language_info": {
   "codemirror_mode": {
    "name": "ipython",
    "version": 3
   },
   "file_extension": ".py",
   "mimetype": "text/x-python",
   "name": "python",
   "nbconvert_exporter": "python",
   "pygments_lexer": "ipython3",
   "version": "3.7.7"
  },
  "toc": {
   "base_numbering": 1,
   "nav_menu": {},
   "number_sections": false,
   "sideBar": true,
   "skip_h1_title": false,
   "title_cell": "MarkDown菜单",
   "title_sidebar": "Contents",
   "toc_cell": false,
   "toc_position": {},
   "toc_section_display": true,
   "toc_window_display": false
  }
 },
 "nbformat": 4,
 "nbformat_minor": 4
}
