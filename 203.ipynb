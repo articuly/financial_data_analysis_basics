{
 "cells": [
  {
   "cell_type": "code",
   "execution_count": 1,
   "metadata": {},
   "outputs": [],
   "source": [
    "import pandas as pd"
   ]
  },
  {
   "cell_type": "code",
   "execution_count": 2,
   "metadata": {},
   "outputs": [],
   "source": [
    "#市净率"
   ]
  },
  {
   "cell_type": "code",
   "execution_count": 3,
   "metadata": {},
   "outputs": [
    {
     "data": {
      "text/plain": [
       "0    600028.XSHG\n",
       "1    601988.XSHG\n",
       "2    601288.XSHG\n",
       "3    601857.XSHG\n",
       "4    601939.XSHG\n",
       "5    601398.XSHG\n",
       "Name: code, dtype: object"
      ]
     },
     "execution_count": 3,
     "metadata": {},
     "output_type": "execute_result"
    }
   ],
   "source": [
    "dataframe1 = get_fundamentals( query(valuation).filter(\n",
    "valuation.pb_ratio  <  1.2 ,\n",
    "valuation.market_cap > 5000\n",
    "                              )\n",
    "                              , date='2018-08-01')\n",
    "dataframe1['code']"
   ]
  },
  {
   "cell_type": "code",
   "execution_count": 4,
   "metadata": {},
   "outputs": [],
   "source": [
    "#市销率"
   ]
  },
  {
   "cell_type": "code",
   "execution_count": 5,
   "metadata": {},
   "outputs": [
    {
     "data": {
      "text/plain": [
       "0    000422.XSHE\n",
       "1    600961.XSHG\n",
       "2    000709.XSHE\n",
       "3    600166.XSHG\n",
       "4    000521.XSHE\n",
       "5    000698.XSHE\n",
       "6    600308.XSHG\n",
       "7    000589.XSHE\n",
       "Name: code, dtype: object"
      ]
     },
     "execution_count": 5,
     "metadata": {},
     "output_type": "execute_result"
    }
   ],
   "source": [
    "dataframe1 = get_fundamentals( query(valuation).filter(\n",
    "valuation.ps_ratio  <  0.4,\n",
    "valuation.pb_ratio  <  0.8 \n",
    "                              )\n",
    "                              , date='2018-08-01')\n",
    "dataframe1['code']"
   ]
  },
  {
   "cell_type": "code",
   "execution_count": 6,
   "metadata": {},
   "outputs": [],
   "source": [
    "#市现率"
   ]
  },
  {
   "cell_type": "code",
   "execution_count": 7,
   "metadata": {},
   "outputs": [
    {
     "data": {
      "text/plain": [
       "0     000953.XSHE\n",
       "1     000927.XSHE\n",
       "2     600877.XSHG\n",
       "3     600198.XSHG\n",
       "4     000585.XSHE\n",
       "5     000995.XSHE\n",
       "6     002188.XSHE\n",
       "7     000737.XSHE\n",
       "8     002260.XSHE\n",
       "9     000422.XSHE\n",
       "10    600961.XSHG\n",
       "11    002604.XSHE\n",
       "12    000693.XSHE\n",
       "13    600074.XSHG\n",
       "14    002122.XSHE\n",
       "Name: code, dtype: object"
      ]
     },
     "execution_count": 7,
     "metadata": {},
     "output_type": "execute_result"
    }
   ],
   "source": [
    "dataframe1 = get_fundamentals( query(valuation).filter(\n",
    "valuation.pcf_ratio  < 0.6 ,\n",
    "valuation.pb_ratio  <  0.5 \n",
    "                              )\n",
    "                              , date='2018-08-01')\n",
    "dataframe1['code']"
   ]
  },
  {
   "cell_type": "code",
   "execution_count": 8,
   "metadata": {},
   "outputs": [],
   "source": [
    "#静态市盈率"
   ]
  },
  {
   "cell_type": "code",
   "execution_count": 12,
   "metadata": {},
   "outputs": [
    {
     "data": {
      "text/plain": [
       "0      600708.XSHG\n",
       "1      000918.XSHE\n",
       "2      600051.XSHG\n",
       "3      600641.XSHG\n",
       "4      600015.XSHG\n",
       "5      000785.XSHE\n",
       "6      000537.XSHE\n",
       "7      000055.XSHE\n",
       "8      600016.XSHG\n",
       "9      600000.XSHG\n",
       "10     000932.XSHE\n",
       "11     601166.XSHG\n",
       "12     000717.XSHE\n",
       "13     002323.XSHE\n",
       "14     600383.XSHG\n",
       "15     600569.XSHG\n",
       "16     002146.XSHE\n",
       "17     000825.XSHE\n",
       "18     000921.XSHE\n",
       "19     000069.XSHE\n",
       "20     601328.XSHG\n",
       "21     600282.XSHG\n",
       "22     601818.XSHG\n",
       "23     601997.XSHG\n",
       "24     600919.XSHG\n",
       "25     601988.XSHG\n",
       "26     600507.XSHG\n",
       "27     600782.XSHG\n",
       "28     601009.XSHG\n",
       "29     000625.XSHE\n",
       "          ...     \n",
       "381    300230.XSHE\n",
       "382    600475.XSHG\n",
       "383    600328.XSHG\n",
       "384    600622.XSHG\n",
       "385    600312.XSHG\n",
       "386    600995.XSHG\n",
       "387    300182.XSHE\n",
       "388    002555.XSHE\n",
       "389    000887.XSHE\n",
       "390    603035.XSHG\n",
       "391    601949.XSHG\n",
       "392    002314.XSHE\n",
       "393    601158.XSHG\n",
       "394    600577.XSHG\n",
       "395    000778.XSHE\n",
       "396    600997.XSHG\n",
       "397    002872.XSHE\n",
       "398    300118.XSHE\n",
       "399    600582.XSHG\n",
       "400    600398.XSHG\n",
       "401    600881.XSHG\n",
       "402    600612.XSHG\n",
       "403    002101.XSHE\n",
       "404    600718.XSHG\n",
       "405    000652.XSHE\n",
       "406    603518.XSHG\n",
       "407    000039.XSHE\n",
       "408    603156.XSHG\n",
       "409    002164.XSHE\n",
       "410    002884.XSHE\n",
       "Name: code, Length: 411, dtype: object"
      ]
     },
     "execution_count": 12,
     "metadata": {},
     "output_type": "execute_result"
    }
   ],
   "source": [
    "dataframe1 = get_fundamentals( query(valuation).filter(\n",
    "valuation.pe_ratio  >  4  ,\n",
    "valuation.pe_ratio  <  15  ,\n",
    "                              )\n",
    "                              , date='2018-08-01')\n",
    "dataframe1['code']\n"
   ]
  },
  {
   "cell_type": "code",
   "execution_count": 11,
   "metadata": {},
   "outputs": [
    {
     "name": "stdout",
     "output_type": "stream",
     "text": [
      "代码300423的证券名： 居然之家\n"
     ]
    }
   ],
   "source": [
    "print(\"代码300423的证券名：\",get_security_info('000785.XSHE').display_name)"
   ]
  },
  {
   "cell_type": "code",
   "execution_count": 13,
   "metadata": {},
   "outputs": [],
   "source": [
    "#动态市盈率"
   ]
  },
  {
   "cell_type": "code",
   "execution_count": null,
   "metadata": {},
   "outputs": [],
   "source": [
    "dataframe1 = get_fundamentals( query(valuation).filter(\n",
    "valuation.pe_ratio   <  6  ,\n",
    "valuation.pcf_ratio  < 0.5 ,\n",
    "valuation.ps_ratio  <  0.4 \n",
    "                              )\n",
    "                              , date='2018-08-01')\n",
    "dataframe1['code']"
   ]
  },
  {
   "cell_type": "code",
   "execution_count": null,
   "metadata": {},
   "outputs": [],
   "source": []
  },
  {
   "cell_type": "code",
   "execution_count": null,
   "metadata": {},
   "outputs": [],
   "source": []
  },
  {
   "cell_type": "code",
   "execution_count": null,
   "metadata": {},
   "outputs": [],
   "source": []
  },
  {
   "cell_type": "code",
   "execution_count": null,
   "metadata": {},
   "outputs": [],
   "source": []
  },
  {
   "cell_type": "code",
   "execution_count": null,
   "metadata": {},
   "outputs": [],
   "source": []
  },
  {
   "cell_type": "code",
   "execution_count": null,
   "metadata": {},
   "outputs": [],
   "source": []
  }
 ],
 "metadata": {
  "kernelspec": {
   "display_name": "Python 3",
   "language": "python",
   "name": "python3"
  },
  "language_info": {
   "codemirror_mode": {
    "name": "ipython",
    "version": 3
   },
   "file_extension": ".py",
   "mimetype": "text/x-python",
   "name": "python",
   "nbconvert_exporter": "python",
   "pygments_lexer": "ipython3",
   "version": "3.7.7"
  },
  "toc": {
   "base_numbering": 1,
   "nav_menu": {},
   "number_sections": false,
   "sideBar": true,
   "skip_h1_title": false,
   "title_cell": "MarkDown菜单",
   "title_sidebar": "Contents",
   "toc_cell": false,
   "toc_position": {},
   "toc_section_display": true,
   "toc_window_display": false
  }
 },
 "nbformat": 4,
 "nbformat_minor": 4
}
