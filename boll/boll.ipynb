{
 "cells": [
  {
   "cell_type": "code",
   "execution_count": 1,
   "metadata": {},
   "outputs": [],
   "source": [
    "import pandas as pd\n",
    "import numpy as np\n",
    "import matplotlib.pyplot as plt"
   ]
  },
  {
   "cell_type": "code",
   "execution_count": 2,
   "metadata": {},
   "outputs": [],
   "source": [
    "ChinaUnicom = pd.read_csv('ChinaUnicom.csv')\n",
    "ChinaUnicom.index = ChinaUnicom.iloc[:, 1]\n",
    "ChinaUnicom.index = pd.to_datetime(ChinaUnicom.index, format='%Y-%m-%d')\n",
    "ChinaUnicom = ChinaUnicom.iloc[:, 2:]"
   ]
  },
  {
   "cell_type": "code",
   "execution_count": 3,
   "metadata": {},
   "outputs": [
    {
     "data": {
      "text/html": [
       "<div>\n",
       "<style scoped>\n",
       "    .dataframe tbody tr th:only-of-type {\n",
       "        vertical-align: middle;\n",
       "    }\n",
       "\n",
       "    .dataframe tbody tr th {\n",
       "        vertical-align: top;\n",
       "    }\n",
       "\n",
       "    .dataframe thead th {\n",
       "        text-align: right;\n",
       "    }\n",
       "</style>\n",
       "<table border=\"1\" class=\"dataframe\">\n",
       "  <thead>\n",
       "    <tr style=\"text-align: right;\">\n",
       "      <th></th>\n",
       "      <th>Open</th>\n",
       "      <th>High</th>\n",
       "      <th>Low</th>\n",
       "      <th>Close</th>\n",
       "      <th>Volume</th>\n",
       "    </tr>\n",
       "    <tr>\n",
       "      <th>Date</th>\n",
       "      <th></th>\n",
       "      <th></th>\n",
       "      <th></th>\n",
       "      <th></th>\n",
       "      <th></th>\n",
       "    </tr>\n",
       "  </thead>\n",
       "  <tbody>\n",
       "    <tr>\n",
       "      <th>2010-01-04</th>\n",
       "      <td>7.31</td>\n",
       "      <td>7.32</td>\n",
       "      <td>7.13</td>\n",
       "      <td>7.14</td>\n",
       "      <td>159457000.0</td>\n",
       "    </tr>\n",
       "    <tr>\n",
       "      <th>2010-01-05</th>\n",
       "      <td>7.16</td>\n",
       "      <td>7.40</td>\n",
       "      <td>7.06</td>\n",
       "      <td>7.39</td>\n",
       "      <td>269085200.0</td>\n",
       "    </tr>\n",
       "    <tr>\n",
       "      <th>2010-01-06</th>\n",
       "      <td>7.35</td>\n",
       "      <td>7.42</td>\n",
       "      <td>7.21</td>\n",
       "      <td>7.23</td>\n",
       "      <td>149647400.0</td>\n",
       "    </tr>\n",
       "    <tr>\n",
       "      <th>2010-01-07</th>\n",
       "      <td>7.22</td>\n",
       "      <td>7.27</td>\n",
       "      <td>7.00</td>\n",
       "      <td>7.02</td>\n",
       "      <td>169879700.0</td>\n",
       "    </tr>\n",
       "    <tr>\n",
       "      <th>2010-01-08</th>\n",
       "      <td>7.00</td>\n",
       "      <td>7.14</td>\n",
       "      <td>6.98</td>\n",
       "      <td>7.11</td>\n",
       "      <td>113754100.0</td>\n",
       "    </tr>\n",
       "  </tbody>\n",
       "</table>\n",
       "</div>"
      ],
      "text/plain": [
       "            Open  High   Low  Close       Volume\n",
       "Date                                            \n",
       "2010-01-04  7.31  7.32  7.13   7.14  159457000.0\n",
       "2010-01-05  7.16  7.40  7.06   7.39  269085200.0\n",
       "2010-01-06  7.35  7.42  7.21   7.23  149647400.0\n",
       "2010-01-07  7.22  7.27  7.00   7.02  169879700.0\n",
       "2010-01-08  7.00  7.14  6.98   7.11  113754100.0"
      ]
     },
     "execution_count": 3,
     "metadata": {},
     "output_type": "execute_result"
    }
   ],
   "source": [
    "ChinaUnicom.head()"
   ]
  },
  {
   "cell_type": "code",
   "execution_count": 4,
   "metadata": {},
   "outputs": [],
   "source": [
    "Close = ChinaUnicom.Close\n",
    "High = ChinaUnicom.High\n",
    "Low = ChinaUnicom.Low"
   ]
  },
  {
   "cell_type": "code",
   "execution_count": 5,
   "metadata": {},
   "outputs": [],
   "source": [
    "#BBands\n",
    "def bbands(tsPrice, period=20, times=2):\n",
    "    upBBand = pd.Series(0.0, index=tsPrice.index)\n",
    "    midBBand = pd.Series(0.0, index=tsPrice.index)\n",
    "    downBBand = pd.Series(0.0, index=tsPrice.index)\n",
    "    sigma = pd.Series(0.0, index=tsPrice.index)\n",
    "    for i in range(period - 1, len(tsPrice)):\n",
    "        midBBand[i] = np.nanmean(tsPrice[i - (period - 1):(i + 1)])\n",
    "        sigma[i] = np.nanstd(tsPrice[i - (period - 1):(i + 1)])\n",
    "        upBBand[i] = midBBand[i] + times * sigma[i]\n",
    "        downBBand[i] = midBBand[i] - times * sigma[i]\n",
    "    BBands=pd.DataFrame({'upBBand': upBBand[(period-1):],\\\n",
    "                         'midBBand': midBBand[(period-1):],\\\n",
    "                         'downBBand': downBBand[(period-1):],\\\n",
    "                         'sigma': sigma[(period-1):]})\n",
    "    return (BBands)"
   ]
  },
  {
   "cell_type": "code",
   "execution_count": 6,
   "metadata": {},
   "outputs": [
    {
     "data": {
      "text/html": [
       "<div>\n",
       "<style scoped>\n",
       "    .dataframe tbody tr th:only-of-type {\n",
       "        vertical-align: middle;\n",
       "    }\n",
       "\n",
       "    .dataframe tbody tr th {\n",
       "        vertical-align: top;\n",
       "    }\n",
       "\n",
       "    .dataframe thead th {\n",
       "        text-align: right;\n",
       "    }\n",
       "</style>\n",
       "<table border=\"1\" class=\"dataframe\">\n",
       "  <thead>\n",
       "    <tr style=\"text-align: right;\">\n",
       "      <th></th>\n",
       "      <th>upBBand</th>\n",
       "      <th>midBBand</th>\n",
       "      <th>downBBand</th>\n",
       "      <th>sigma</th>\n",
       "    </tr>\n",
       "    <tr>\n",
       "      <th>Date</th>\n",
       "      <th></th>\n",
       "      <th></th>\n",
       "      <th></th>\n",
       "      <th></th>\n",
       "    </tr>\n",
       "  </thead>\n",
       "  <tbody>\n",
       "    <tr>\n",
       "      <th>2010-01-29</th>\n",
       "      <td>7.797957</td>\n",
       "      <td>7.2775</td>\n",
       "      <td>6.757043</td>\n",
       "      <td>0.260228</td>\n",
       "    </tr>\n",
       "    <tr>\n",
       "      <th>2010-02-01</th>\n",
       "      <td>7.826073</td>\n",
       "      <td>7.2575</td>\n",
       "      <td>6.688927</td>\n",
       "      <td>0.284286</td>\n",
       "    </tr>\n",
       "    <tr>\n",
       "      <th>2010-02-02</th>\n",
       "      <td>7.840863</td>\n",
       "      <td>7.2215</td>\n",
       "      <td>6.602137</td>\n",
       "      <td>0.309682</td>\n",
       "    </tr>\n",
       "    <tr>\n",
       "      <th>2010-02-03</th>\n",
       "      <td>7.849999</td>\n",
       "      <td>7.1975</td>\n",
       "      <td>6.545001</td>\n",
       "      <td>0.326250</td>\n",
       "    </tr>\n",
       "    <tr>\n",
       "      <th>2010-02-04</th>\n",
       "      <td>7.870401</td>\n",
       "      <td>7.1790</td>\n",
       "      <td>6.487599</td>\n",
       "      <td>0.345701</td>\n",
       "    </tr>\n",
       "  </tbody>\n",
       "</table>\n",
       "</div>"
      ],
      "text/plain": [
       "             upBBand  midBBand  downBBand     sigma\n",
       "Date                                               \n",
       "2010-01-29  7.797957    7.2775   6.757043  0.260228\n",
       "2010-02-01  7.826073    7.2575   6.688927  0.284286\n",
       "2010-02-02  7.840863    7.2215   6.602137  0.309682\n",
       "2010-02-03  7.849999    7.1975   6.545001  0.326250\n",
       "2010-02-04  7.870401    7.1790   6.487599  0.345701"
      ]
     },
     "execution_count": 6,
     "metadata": {},
     "output_type": "execute_result"
    }
   ],
   "source": [
    "UnicomBBands = bbands(Close, 20, 2)\n",
    "UnicomBBands.head()"
   ]
  },
  {
   "cell_type": "code",
   "execution_count": 7,
   "metadata": {},
   "outputs": [],
   "source": [
    "upDownBB = UnicomBBands[['downBBand', 'upBBand']]\n",
    "upDownBB13 = upDownBB['2013-01-01':'2013-06-28']"
   ]
  },
  {
   "cell_type": "code",
   "execution_count": 8,
   "metadata": {},
   "outputs": [],
   "source": [
    "ChinaUnicom13 = ChinaUnicom['2013-01-01':'2013-06-28']"
   ]
  },
  {
   "cell_type": "code",
   "execution_count": 9,
   "metadata": {},
   "outputs": [
    {
     "name": "stderr",
     "output_type": "stream",
     "text": [
      "D:\\Programing\\Anaconda3\\lib\\site-packages\\mpl_finance.py:22: DeprecationWarning: \n",
      "\n",
      "  =================================================================\n",
      "\n",
      "   WARNING: `mpl_finance` is deprecated:\n",
      "\n",
      "    Please use `mplfinance` instead (no hyphen, no underscore).\n",
      "\n",
      "    To install: `pip install --upgrade mplfinance` \n",
      "\n",
      "   For more information, see: https://pypi.org/project/mplfinance/\n",
      "\n",
      "  =================================================================\n",
      "\n",
      "  category=DeprecationWarning)\n",
      "D:\\Programing\\Anaconda3\\lib\\site-packages\\pandas\\core\\indexing.py:844: SettingWithCopyWarning: \n",
      "A value is trying to be set on a copy of a slice from a DataFrame.\n",
      "Try using .loc[row_indexer,col_indexer] = value instead\n",
      "\n",
      "See the caveats in the documentation: https://pandas.pydata.org/pandas-docs/stable/user_guide/indexing.html#returning-a-view-versus-a-copy\n",
      "  self.obj[key] = _infer_fill_value(value)\n",
      "D:\\Programing\\Anaconda3\\lib\\site-packages\\pandas\\core\\indexing.py:1047: SettingWithCopyWarning: \n",
      "A value is trying to be set on a copy of a slice from a DataFrame.\n",
      "Try using .loc[row_indexer,col_indexer] = value instead\n",
      "\n",
      "See the caveats in the documentation: https://pandas.pydata.org/pandas-docs/stable/user_guide/indexing.html#returning-a-view-versus-a-copy\n",
      "  self.obj[item_labels[indexer[info_axis]]] = value\n"
     ]
    },
    {
     "data": {
      "image/png": "[encoded data removed]",
      "text/plain": [
       "<Figure size 1152x576 with 1 Axes>"
      ]
     },
     "metadata": {
      "needs_background": "light"
     },
     "output_type": "display_data"
    }
   ],
   "source": [
    "fig = plt.figure(figsize=(16, 8))\n",
    "plt.rcParams['font.sans-serif'] = ['SimHei']\n",
    "import candle\n",
    "candle.candleLinePlots(candleData=ChinaUnicom13,\\\n",
    "        candleTitle='中国联通2013年上半年布林带通道线',\\\n",
    "        Data=upDownBB13)"
   ]
  },
  {
   "cell_type": "code",
   "execution_count": 10,
   "metadata": {},
   "outputs": [
    {
     "data": {
      "text/html": [
       "<img src=\"boll1.png\"/>"
      ],
      "text/plain": [
       "<IPython.core.display.Image object>"
      ]
     },
     "execution_count": 10,
     "metadata": {},
     "output_type": "execute_result"
    }
   ],
   "source": [
    "from IPython.display import Image\n",
    "from IPython.core.display import HTML\n",
    "Image(url=\"boll1.png\")"
   ]
  },
  {
   "cell_type": "code",
   "execution_count": 11,
   "metadata": {},
   "outputs": [
    {
     "data": {
      "text/html": [
       "<img src=\"boll2.png\"/>"
      ],
      "text/plain": [
       "<IPython.core.display.Image object>"
      ]
     },
     "execution_count": 11,
     "metadata": {},
     "output_type": "execute_result"
    }
   ],
   "source": [
    "from IPython.display import Image\n",
    "from IPython.core.display import HTML\n",
    "Image(url=\"boll2.png\")"
   ]
  },
  {
   "cell_type": "code",
   "execution_count": 12,
   "metadata": {},
   "outputs": [],
   "source": [
    "def CalBollRisk(tsPrice, multiplier):\n",
    "    k = len(multiplier)\n",
    "    overUp = []\n",
    "    belowDown = []\n",
    "    BollRisk = []\n",
    "    for i in range(k):\n",
    "        BBands = bbands(tsPrice, 20, multiplier[i])\n",
    "        a = 0\n",
    "        b = 0\n",
    "        for j in range(len(BBands)):\n",
    "            tsPrice = tsPrice[-(len(BBands)):]\n",
    "            if tsPrice[j] > BBands.upBBand[j]:\n",
    "                a += 1\n",
    "            elif tsPrice[j] < BBands.downBBand[j]:\n",
    "                b += 1\n",
    "        overUp.append(a)\n",
    "        belowDown.append(b)\n",
    "        BollRisk.append(100 * (a + b) / len(tsPrice))\n",
    "    return (BollRisk)"
   ]
  },
  {
   "cell_type": "code",
   "execution_count": 14,
   "metadata": {},
   "outputs": [
    {
     "data": {
      "text/plain": [
       "[51.98237885462555,\n",
       " 22.596153846153847,\n",
       " 12.698412698412698,\n",
       " 11.764705882352942,\n",
       " 3.9735099337748343]"
      ]
     },
     "execution_count": 14,
     "metadata": {},
     "output_type": "execute_result"
    }
   ],
   "source": [
    "multiplier = [1, 1.65, 1.96, 2, 2.58]\n",
    "price2010 = Close['2010-01-04':'2010-12-31']\n",
    "CalBollRisk(price2010, multiplier)"
   ]
  },
  {
   "cell_type": "code",
   "execution_count": 15,
   "metadata": {},
   "outputs": [
    {
     "data": {
      "text/plain": [
       "[57.5,\n",
       " 30.316742081447963,\n",
       " 16.831683168316832,\n",
       " 16.39344262295082,\n",
       " 1.829268292682927]"
      ]
     },
     "execution_count": 15,
     "metadata": {},
     "output_type": "execute_result"
    }
   ],
   "source": [
    "price2012 = Close['2012-01-04':'2012-12-31']\n",
    "CalBollRisk(price2012, multiplier)"
   ]
  },
  {
   "cell_type": "code",
   "execution_count": 16,
   "metadata": {},
   "outputs": [
    {
     "data": {
      "text/plain": [
       "[53.78151260504202,\n",
       " 20.091324200913242,\n",
       " 10.5,\n",
       " 9.94475138121547,\n",
       " 1.8518518518518519]"
      ]
     },
     "execution_count": 16,
     "metadata": {},
     "output_type": "execute_result"
    }
   ],
   "source": [
    "price2013 = Close['2013-01-04':'2013-12-31']\n",
    "CalBollRisk(price2013, multiplier)"
   ]
  },
  {
   "cell_type": "code",
   "execution_count": 17,
   "metadata": {},
   "outputs": [
    {
     "data": {
      "text/html": [
       "<img src=\"boll3.png\"/>"
      ],
      "text/plain": [
       "<IPython.core.display.Image object>"
      ]
     },
     "execution_count": 17,
     "metadata": {},
     "output_type": "execute_result"
    }
   ],
   "source": [
    "from IPython.display import Image\n",
    "from IPython.core.display import HTML\n",
    "Image(url=\"boll3.png\")"
   ]
  },
  {
   "cell_type": "code",
   "execution_count": 18,
   "metadata": {},
   "outputs": [],
   "source": [
    "def upbreak(tsLine, tsRefLine):\n",
    "    n = min(len(tsLine), len(tsRefLine))\n",
    "    tsLine = tsLine[-n:]\n",
    "    tsRefLine = tsRefLine[-n:]\n",
    "    signal = pd.Series(0, index=tsLine.index)\n",
    "    for i in range(1, len(tsLine)):\n",
    "        if all([tsLine[i] > tsRefLine[i], tsLine[i - 1] < tsRefLine[i - 1]]):\n",
    "            signal[i] = 1\n",
    "    return (signal)\n",
    "\n",
    "\n",
    "def downbreak(tsLine, tsRefLine):\n",
    "    n = min(len(tsLine), len(tsRefLine))\n",
    "    tsLine = tsLine[-n:]\n",
    "    tsRefLine = tsRefLine[-n:]\n",
    "    signal = pd.Series(0, index=tsLine.index)\n",
    "    for i in range(1, len(tsLine)):\n",
    "        if all([tsLine[i] < tsRefLine[i], tsLine[i - 1] > tsRefLine[i - 1]]):\n",
    "            signal[i] = 1\n",
    "    return (signal)"
   ]
  },
  {
   "cell_type": "code",
   "execution_count": 19,
   "metadata": {},
   "outputs": [],
   "source": [
    "#strategy\n",
    "BBands = bbands(Close, 20, 2)\n",
    "\n",
    "upbreakBB1 = upbreak(Close, BBands.upBBand)\n",
    "downbreakBB1 = downbreak(Close, BBands.downBBand)\n",
    "\n",
    "upBBSig1 = -upbreakBB1.shift(2)\n",
    "downBBSig1 = downbreakBB1.shift(2)\n",
    "\n",
    "tradSignal1 = upBBSig1 + downBBSig1\n",
    "tradSignal1[tradSignal1 == 0] = 0\n",
    "\n",
    "\n",
    "def perform(tsPrice, tsTradSig):\n",
    "    ret = tsPrice / tsPrice.shift(1) - 1\n",
    "    tradRet = (ret * tsTradSig).dropna()\n",
    "    ret = ret[-len(tradRet):]\n",
    "    winRate=[len(ret[ret>0])/len(ret[ret!=0]),\\\n",
    "             len(tradRet[tradRet>0])/len(tradRet[tradRet!=0])]\n",
    "    meanWin=[np.mean(ret[ret>0]),\\\n",
    "             np.mean(tradRet[tradRet>0])]\n",
    "    meanLoss=[np.mean(ret[ret<0]),\\\n",
    "             np.mean(tradRet[tradRet<0])]\n",
    "    Performance=pd.DataFrame({'winRate': winRate,'meanWin': meanWin,\\\n",
    "                             'meanLoss': meanLoss})\n",
    "    Performance.index = ['Stock', 'Trade']\n",
    "    return (Performance)"
   ]
  },
  {
   "cell_type": "code",
   "execution_count": 20,
   "metadata": {},
   "outputs": [
    {
     "data": {
      "text/html": [
       "<div>\n",
       "<style scoped>\n",
       "    .dataframe tbody tr th:only-of-type {\n",
       "        vertical-align: middle;\n",
       "    }\n",
       "\n",
       "    .dataframe tbody tr th {\n",
       "        vertical-align: top;\n",
       "    }\n",
       "\n",
       "    .dataframe thead th {\n",
       "        text-align: right;\n",
       "    }\n",
       "</style>\n",
       "<table border=\"1\" class=\"dataframe\">\n",
       "  <thead>\n",
       "    <tr style=\"text-align: right;\">\n",
       "      <th></th>\n",
       "      <th>winRate</th>\n",
       "      <th>meanWin</th>\n",
       "      <th>meanLoss</th>\n",
       "    </tr>\n",
       "  </thead>\n",
       "  <tbody>\n",
       "    <tr>\n",
       "      <th>Stock</th>\n",
       "      <td>0.458525</td>\n",
       "      <td>0.013320</td>\n",
       "      <td>-0.012599</td>\n",
       "    </tr>\n",
       "    <tr>\n",
       "      <th>Trade</th>\n",
       "      <td>0.557692</td>\n",
       "      <td>0.014709</td>\n",
       "      <td>-0.011710</td>\n",
       "    </tr>\n",
       "  </tbody>\n",
       "</table>\n",
       "</div>"
      ],
      "text/plain": [
       "        winRate   meanWin  meanLoss\n",
       "Stock  0.458525  0.013320 -0.012599\n",
       "Trade  0.557692  0.014709 -0.011710"
      ]
     },
     "execution_count": 20,
     "metadata": {},
     "output_type": "execute_result"
    }
   ],
   "source": [
    "Performance1 = perform(Close, tradSignal1)\n",
    "Performance1"
   ]
  },
  {
   "cell_type": "code",
   "execution_count": 21,
   "metadata": {},
   "outputs": [],
   "source": [
    "upbreakBB2 = upbreak(Close, BBands.downBBand)\n",
    "downbreakBB2 = downbreak(Close, BBands.upBBand)"
   ]
  },
  {
   "cell_type": "code",
   "execution_count": 22,
   "metadata": {},
   "outputs": [],
   "source": [
    "upBBSig2 = upbreakBB2.shift(2)\n",
    "downBBSig2 = -downbreakBB2.shift(2)\n",
    "tradSignal2 = upBBSig2 + downBBSig2\n",
    "tradSignal2[tradSignal2 == 0] = 0"
   ]
  },
  {
   "cell_type": "code",
   "execution_count": 23,
   "metadata": {},
   "outputs": [
    {
     "data": {
      "text/html": [
       "<div>\n",
       "<style scoped>\n",
       "    .dataframe tbody tr th:only-of-type {\n",
       "        vertical-align: middle;\n",
       "    }\n",
       "\n",
       "    .dataframe tbody tr th {\n",
       "        vertical-align: top;\n",
       "    }\n",
       "\n",
       "    .dataframe thead th {\n",
       "        text-align: right;\n",
       "    }\n",
       "</style>\n",
       "<table border=\"1\" class=\"dataframe\">\n",
       "  <thead>\n",
       "    <tr style=\"text-align: right;\">\n",
       "      <th></th>\n",
       "      <th>winRate</th>\n",
       "      <th>meanWin</th>\n",
       "      <th>meanLoss</th>\n",
       "    </tr>\n",
       "  </thead>\n",
       "  <tbody>\n",
       "    <tr>\n",
       "      <th>Stock</th>\n",
       "      <td>0.458525</td>\n",
       "      <td>0.013320</td>\n",
       "      <td>-0.012599</td>\n",
       "    </tr>\n",
       "    <tr>\n",
       "      <th>Trade</th>\n",
       "      <td>0.529412</td>\n",
       "      <td>0.014584</td>\n",
       "      <td>-0.010517</td>\n",
       "    </tr>\n",
       "  </tbody>\n",
       "</table>\n",
       "</div>"
      ],
      "text/plain": [
       "        winRate   meanWin  meanLoss\n",
       "Stock  0.458525  0.013320 -0.012599\n",
       "Trade  0.529412  0.014584 -0.010517"
      ]
     },
     "execution_count": 23,
     "metadata": {},
     "output_type": "execute_result"
    }
   ],
   "source": [
    "Performance2 = perform(Close, tradSignal2)\n",
    "Performance2"
   ]
  }
 ],
 "metadata": {
  "kernelspec": {
   "display_name": "Python 3",
   "language": "python",
   "name": "python3"
  },
  "language_info": {
   "codemirror_mode": {
    "name": "ipython",
    "version": 3
   },
   "file_extension": ".py",
   "mimetype": "text/x-python",
   "name": "python",
   "nbconvert_exporter": "python",
   "pygments_lexer": "ipython3",
   "version": "3.7.6"
  }
 },
 "nbformat": 4,
 "nbformat_minor": 4
}
