{
 "cells": [
  {
   "cell_type": "markdown",
   "metadata": {},
   "source": [
    "动量计算公式\n",
    "做差法求值"
   ]
  },
  {
   "cell_type": "markdown",
   "metadata": {},
   "source": [
    "导入相关组件"
   ]
  },
  {
   "cell_type": "code",
   "execution_count": 16,
   "metadata": {},
   "outputs": [],
   "source": [
    "import pandas as pd\n",
    "import matplotlib.pyplot as plt"
   ]
  },
  {
   "cell_type": "code",
   "execution_count": 17,
   "metadata": {},
   "outputs": [
    {
     "data": {
      "text/html": [
       "<div>\n",
       "<style scoped>\n",
       "    .dataframe tbody tr th:only-of-type {\n",
       "        vertical-align: middle;\n",
       "    }\n",
       "\n",
       "    .dataframe tbody tr th {\n",
       "        vertical-align: top;\n",
       "    }\n",
       "\n",
       "    .dataframe thead th {\n",
       "        text-align: right;\n",
       "    }\n",
       "</style>\n",
       "<table border=\"1\" class=\"dataframe\">\n",
       "  <thead>\n",
       "    <tr style=\"text-align: right;\">\n",
       "      <th></th>\n",
       "      <th>Open</th>\n",
       "      <th>High</th>\n",
       "      <th>Low</th>\n",
       "      <th>Close</th>\n",
       "      <th>Volume</th>\n",
       "    </tr>\n",
       "    <tr>\n",
       "      <th>Date</th>\n",
       "      <th></th>\n",
       "      <th></th>\n",
       "      <th></th>\n",
       "      <th></th>\n",
       "      <th></th>\n",
       "    </tr>\n",
       "  </thead>\n",
       "  <tbody>\n",
       "    <tr>\n",
       "      <th>2014-01-01</th>\n",
       "      <td>8.03</td>\n",
       "      <td>8.03</td>\n",
       "      <td>8.03</td>\n",
       "      <td>8.03</td>\n",
       "      <td>0</td>\n",
       "    </tr>\n",
       "    <tr>\n",
       "      <th>2014-01-02</th>\n",
       "      <td>7.99</td>\n",
       "      <td>8.07</td>\n",
       "      <td>7.92</td>\n",
       "      <td>7.99</td>\n",
       "      <td>48529900</td>\n",
       "    </tr>\n",
       "  </tbody>\n",
       "</table>\n",
       "</div>"
      ],
      "text/plain": [
       "            Open  High   Low  Close    Volume\n",
       "Date                                         \n",
       "2014-01-01  8.03  8.03  8.03   8.03         0\n",
       "2014-01-02  7.99  8.07  7.92   7.99  48529900"
      ]
     },
     "execution_count": 17,
     "metadata": {},
     "output_type": "execute_result"
    }
   ],
   "source": [
    "Vanke = pd.read_csv('Vanke.csv')\n",
    "Vanke.index = Vanke.iloc[:, 1]\n",
    "Vanke.index = pd.to_datetime(Vanke.index, format='%Y-%m-%d')\n",
    "Vanke = Vanke.iloc[:, 2:]\n",
    "Vanke.head(2)"
   ]
  },
  {
   "cell_type": "markdown",
   "metadata": {},
   "source": [
    "比如以万科为例，计算5期的动量值 先提取收盘价，然后定义5期后的收盘价，进行做差"
   ]
  },
  {
   "cell_type": "code",
   "execution_count": 18,
   "metadata": {},
   "outputs": [
    {
     "data": {
      "text/plain": [
       "count    344.000000\n",
       "mean       9.846337\n",
       "std        2.268338\n",
       "min        6.570000\n",
       "25%        7.987500\n",
       "50%        9.250000\n",
       "75%       11.967500\n",
       "max       14.910000\n",
       "Name: Close, dtype: float64"
      ]
     },
     "execution_count": 18,
     "metadata": {},
     "output_type": "execute_result"
    }
   ],
   "source": [
    "Close = Vanke.Close\n",
    "Close.describe()"
   ]
  },
  {
   "cell_type": "code",
   "execution_count": 19,
   "metadata": {},
   "outputs": [
    {
     "data": {
      "text/plain": [
       "Date\n",
       "2014-01-01    8.03\n",
       "2014-01-02    7.99\n",
       "2014-01-03    7.84\n",
       "2014-01-06    7.48\n",
       "2014-01-07    7.43\n",
       "2014-01-08    7.42\n",
       "2014-01-09    7.46\n",
       "2014-01-10    7.38\n",
       "2014-01-13    7.24\n",
       "2014-01-14    7.23\n",
       "Name: Close, dtype: float64"
      ]
     },
     "execution_count": 19,
     "metadata": {},
     "output_type": "execute_result"
    }
   ],
   "source": [
    "Close.head(10)"
   ]
  },
  {
   "cell_type": "code",
   "execution_count": 20,
   "metadata": {},
   "outputs": [],
   "source": [
    "lag5Close = Close.shift(5)"
   ]
  },
  {
   "cell_type": "code",
   "execution_count": 21,
   "metadata": {},
   "outputs": [
    {
     "data": {
      "text/plain": [
       "Date\n",
       "2014-01-01     NaN\n",
       "2014-01-02     NaN\n",
       "2014-01-03     NaN\n",
       "2014-01-06     NaN\n",
       "2014-01-07     NaN\n",
       "2014-01-08    8.03\n",
       "2014-01-09    7.99\n",
       "2014-01-10    7.84\n",
       "2014-01-13    7.48\n",
       "2014-01-14    7.43\n",
       "Name: Close, dtype: float64"
      ]
     },
     "execution_count": 21,
     "metadata": {},
     "output_type": "execute_result"
    }
   ],
   "source": [
    "lag5Close.head(10)"
   ]
  },
  {
   "cell_type": "code",
   "execution_count": 22,
   "metadata": {},
   "outputs": [
    {
     "data": {
      "text/plain": [
       "Date\n",
       "2015-04-22    0.98\n",
       "2015-04-23    0.46\n",
       "2015-04-24   -0.25\n",
       "2015-04-27    0.49\n",
       "2015-04-28   -0.29\n",
       "Name: Close, dtype: float64"
      ]
     },
     "execution_count": 22,
     "metadata": {},
     "output_type": "execute_result"
    }
   ],
   "source": [
    "momentum5 = Close - lag5Close\n",
    "momentum5.tail()"
   ]
  },
  {
   "cell_type": "markdown",
   "metadata": {},
   "source": [
    "绘制收盘价和五日动量曲线"
   ]
  },
  {
   "cell_type": "code",
   "execution_count": 23,
   "metadata": {},
   "outputs": [
    {
     "data": {
      "text/plain": [
       "Text(0, 0.5, 'Momentum5')"
      ]
     },
     "execution_count": 23,
     "metadata": {},
     "output_type": "execute_result"
    },
    {
     "name": "stderr",
     "output_type": "stream",
     "text": [
      "D:\\Programing\\Anaconda3\\lib\\site-packages\\matplotlib\\backends\\backend_agg.py:214: RuntimeWarning: Glyph 8722 missing from current font.\n",
      "  font.set_text(s, 0.0, flags=flags)\n",
      "D:\\Programing\\Anaconda3\\lib\\site-packages\\matplotlib\\backends\\backend_agg.py:183: RuntimeWarning: Glyph 8722 missing from current font.\n",
      "  font.set_text(s, 0, flags=flags)\n"
     ]
    },
    {
     "data": {
      "image/png": "[encoded data removed]",
      "text/plain": [
       "<Figure size 432x288 with 2 Axes>"
      ]
     },
     "metadata": {
      "needs_background": "light"
     },
     "output_type": "display_data"
    }
   ],
   "source": [
    "#plot\n",
    "plt.rcParams['font.sans-serif'] = ['SimHei']\n",
    "plt.subplot(211)\n",
    "plt.plot(Close, 'b*')\n",
    "plt.xlabel('date')\n",
    "plt.ylabel('Close')\n",
    "plt.title('万科股价5日动量图')\n",
    "\n",
    "plt.subplot(212)\n",
    "plt.plot(momentum5, 'r-*')\n",
    "plt.xlabel('date')\n",
    "plt.ylabel('Momentum5')"
   ]
  },
  {
   "cell_type": "markdown",
   "metadata": {},
   "source": [
    "上述算法的缺点，由于是两个值的互减，所以如果本身股价很高，则差值也大，在多个股票间比对可能特征不容易发现，所以也有版本改为用除法的方式"
   ]
  },
  {
   "cell_type": "markdown",
   "metadata": {},
   "source": [
    "通过除法求动量值"
   ]
  },
  {
   "cell_type": "code",
   "execution_count": 24,
   "metadata": {},
   "outputs": [
    {
     "data": {
      "text/plain": [
       "Date\n",
       "2014-01-08   -0.075965\n",
       "2014-01-09   -0.066333\n",
       "2014-01-10   -0.058673\n",
       "2014-01-13   -0.032086\n",
       "2014-01-14   -0.026918\n",
       "Name: Close, dtype: float64"
      ]
     },
     "execution_count": 24,
     "metadata": {},
     "output_type": "execute_result"
    }
   ],
   "source": [
    "#divide\n",
    "Momen5 = Close / lag5Close - 1\n",
    "Momen5 = Momen5.dropna()\n",
    "Momen5[0:5]"
   ]
  },
  {
   "cell_type": "markdown",
   "metadata": {},
   "source": [
    "为了程序简化 制作一个特殊函数 封装刚才的算法 "
   ]
  },
  {
   "cell_type": "code",
   "execution_count": 25,
   "metadata": {},
   "outputs": [],
   "source": [
    "# 动能计算函数\n",
    "def momentum(price, period):\n",
    "    lagPrice = price.shift(period)\n",
    "    moment = price - lagPrice\n",
    "    moment = moment.dropna()\n",
    "    return moment"
   ]
  },
  {
   "cell_type": "code",
   "execution_count": 27,
   "metadata": {},
   "outputs": [
    {
     "data": {
      "text/plain": [
       "Date\n",
       "2015-04-22    0.98\n",
       "2015-04-23    0.46\n",
       "2015-04-24   -0.25\n",
       "2015-04-27    0.49\n",
       "2015-04-28   -0.29\n",
       "Name: Close, dtype: float64"
      ]
     },
     "execution_count": 27,
     "metadata": {},
     "output_type": "execute_result"
    }
   ],
   "source": [
    "momentum(Close, 5).tail(n=5)"
   ]
  },
  {
   "cell_type": "code",
   "execution_count": 28,
   "metadata": {},
   "outputs": [
    {
     "data": {
      "text/plain": [
       "Date\n",
       "2015-03-04   -0.88\n",
       "2015-03-05   -1.87\n",
       "2015-03-06   -1.58\n",
       "2015-03-09    0.05\n",
       "2015-03-10   -0.33\n",
       "2015-03-11   -1.12\n",
       "2015-03-12   -1.36\n",
       "2015-03-13   -1.69\n",
       "2015-03-16   -1.21\n",
       "2015-03-17   -0.55\n",
       "2015-03-18    0.14\n",
       "2015-03-19   -0.14\n",
       "2015-03-20    0.02\n",
       "2015-03-23    0.48\n",
       "2015-03-24    0.09\n",
       "2015-03-25   -0.02\n",
       "2015-03-26    0.25\n",
       "2015-03-27    1.19\n",
       "2015-03-30    2.06\n",
       "2015-03-31    1.40\n",
       "2015-04-01    1.31\n",
       "2015-04-02    1.12\n",
       "2015-04-03    0.69\n",
       "2015-04-06    0.81\n",
       "2015-04-07    0.95\n",
       "2015-04-08    1.05\n",
       "2015-04-09    1.87\n",
       "2015-04-10    1.55\n",
       "2015-04-13    1.60\n",
       "2015-04-14    1.35\n",
       "2015-04-15    1.50\n",
       "2015-04-16    1.45\n",
       "2015-04-17    1.92\n",
       "2015-04-20    1.44\n",
       "2015-04-21    2.28\n",
       "2015-04-22    2.66\n",
       "2015-04-23    2.86\n",
       "2015-04-24    2.48\n",
       "2015-04-27    2.48\n",
       "2015-04-28    2.17\n",
       "Name: Close, dtype: float64"
      ]
     },
     "execution_count": 28,
     "metadata": {},
     "output_type": "execute_result"
    }
   ],
   "source": [
    "momen35 = momentum(Close, 35)\n",
    "momen35.tail(40)"
   ]
  },
  {
   "cell_type": "markdown",
   "metadata": {},
   "source": [
    "为了直观的观察动能和K线的关联，我们通过Python程序对万科股票的K线和35日动能进行对比\n"
   ]
  },
  {
   "cell_type": "code",
   "execution_count": 29,
   "metadata": {},
   "outputs": [
    {
     "name": "stderr",
     "output_type": "stream",
     "text": [
      "D:\\Programing\\Anaconda3\\lib\\site-packages\\mpl_finance.py:22: DeprecationWarning: \n",
      "\n",
      "  =================================================================\n",
      "\n",
      "   WARNING: `mpl_finance` is deprecated:\n",
      "\n",
      "    Please use `mplfinance` instead (no hyphen, no underscore).\n",
      "\n",
      "    To install: `pip install --upgrade mplfinance` \n",
      "\n",
      "   For more information, see: https://pypi.org/project/mplfinance/\n",
      "\n",
      "  =================================================================\n",
      "\n",
      "  category=DeprecationWarning)\n"
     ]
    }
   ],
   "source": [
    "import pandas as pd\n",
    "import matplotlib.pyplot as plt\n",
    "from matplotlib.dates import DateFormatter, WeekdayLocator, \\\n",
    "                                DayLocator, MONDAY, date2num\n",
    "from mpl_finance import candlestick_ohlc"
   ]
  },
  {
   "cell_type": "code",
   "execution_count": 12,
   "metadata": {},
   "outputs": [],
   "source": [
    "# 定义 candleLinePlots 函数\n",
    "def candleLinePlots(candleData, candleTitle='a', **kwargs):\n",
    "    Date = [date2num(date) for date in candleData.index]\n",
    "    candleData.loc[:, 'Date'] = Date\n",
    "    listData = []\n",
    "\n",
    "    for i in range(len(candleData)):\n",
    "        a = [candleData.Date[i],\\\n",
    "            candleData.Open[i],candleData.High[i],\\\n",
    "            candleData.Low[i],candleData.Close[i]]\n",
    "        listData.append(a)\n",
    "    # 如 果 不 定 长 参 数 无 取 值 ， 只 画 蜡 烛 图\n",
    "    ax = plt.subplot()\n",
    "\n",
    "    # 如 果 不 定 长 参 数 有 值 ， 则 分 成 两 个 子 图\n",
    "    flag = 0\n",
    "    if kwargs:\n",
    "        if kwargs['splitFigures']:\n",
    "            ax = plt.subplot(211)\n",
    "            ax2 = plt.subplot(212)\n",
    "            flag = 1\n",
    "        # 如 果 无 参 数 splitFigures ， 则 只 画 一 个 图 形 框\n",
    "        # 如 果 有 参 数 splitFigures ， 则 画 出 两 个 图 形 框\n",
    "\n",
    "        for key in kwargs:\n",
    "            if key == 'title':\n",
    "                ax2.set_title(kwargs[key])\n",
    "            if key == 'ylabel':\n",
    "                ax2.set_ylabel(kwargs[key])\n",
    "            if key == 'grid':\n",
    "                ax2.grid(kwargs[key])\n",
    "            if key == 'Data':\n",
    "                plt.sca(ax)\n",
    "                if flag:\n",
    "                    plt.sca(ax2)\n",
    "\n",
    "                #一维数据\n",
    "                if kwargs[key].ndim == 1:\n",
    "                    plt.plot(kwargs[key],\\\n",
    "                             color='k',\\\n",
    "                             label=kwargs[key].name)\n",
    "                    plt.legend(loc='best')\n",
    "                #二维数据有两个columns\n",
    "                elif all([kwargs[key].ndim==2,\\\n",
    "                          len(kwargs[key].columns)==2]):\n",
    "                    plt.plot(kwargs[key].iloc[:, 0],\n",
    "                             color='k',\n",
    "                             label=kwargs[key].iloc[:, 0].name)\n",
    "                    plt.plot(kwargs[key].iloc[:,1],\\\n",
    "                             linestyle='dashed',\\\n",
    "                             label=kwargs[key].iloc[:,1].name)\n",
    "                    plt.legend(loc='best')\n",
    "\n",
    "    mondays = WeekdayLocator(MONDAY)\n",
    "    weekFormatter = DateFormatter('%y %b %d')\n",
    "    ax.xaxis.set_major_locator(mondays)\n",
    "    ax.xaxis.set_minor_locator(DayLocator())\n",
    "    ax.xaxis.set_major_formatter(weekFormatter)\n",
    "    plt.sca(ax)\n",
    "\n",
    "    candlestick_ohlc(ax,listData, width=0.7,\\\n",
    "                     colorup='r',colordown='g')\n",
    "    ax.set_title(candleTitle)\n",
    "    plt.setp(ax.get_xticklabels(),\\\n",
    "             rotation=20,\\\n",
    "             horizontalalignment='center')\n",
    "    ax.autoscale_view()\n",
    "\n",
    "    return (plt.show())"
   ]
  },
  {
   "cell_type": "code",
   "execution_count": 30,
   "metadata": {},
   "outputs": [
    {
     "data": {
      "text/plain": [
       "Index(['Open', 'High', 'Low', 'Close', 'Volume'], dtype='object')"
      ]
     },
     "execution_count": 30,
     "metadata": {},
     "output_type": "execute_result"
    }
   ],
   "source": [
    "Vanke.columns"
   ]
  },
  {
   "cell_type": "code",
   "execution_count": 32,
   "metadata": {},
   "outputs": [
    {
     "data": {
      "text/html": [
       "<div>\n",
       "<style scoped>\n",
       "    .dataframe tbody tr th:only-of-type {\n",
       "        vertical-align: middle;\n",
       "    }\n",
       "\n",
       "    .dataframe tbody tr th {\n",
       "        vertical-align: top;\n",
       "    }\n",
       "\n",
       "    .dataframe thead th {\n",
       "        text-align: right;\n",
       "    }\n",
       "</style>\n",
       "<table border=\"1\" class=\"dataframe\">\n",
       "  <thead>\n",
       "    <tr style=\"text-align: right;\">\n",
       "      <th></th>\n",
       "      <th>Open</th>\n",
       "      <th>High</th>\n",
       "      <th>Low</th>\n",
       "      <th>Close</th>\n",
       "      <th>Volume</th>\n",
       "    </tr>\n",
       "    <tr>\n",
       "      <th>Date</th>\n",
       "      <th></th>\n",
       "      <th></th>\n",
       "      <th></th>\n",
       "      <th></th>\n",
       "      <th></th>\n",
       "    </tr>\n",
       "  </thead>\n",
       "  <tbody>\n",
       "    <tr>\n",
       "      <th>2015-01-01</th>\n",
       "      <td>13.90</td>\n",
       "      <td>13.90</td>\n",
       "      <td>13.90</td>\n",
       "      <td>13.90</td>\n",
       "      <td>0</td>\n",
       "    </tr>\n",
       "    <tr>\n",
       "      <th>2015-01-02</th>\n",
       "      <td>13.90</td>\n",
       "      <td>13.90</td>\n",
       "      <td>13.90</td>\n",
       "      <td>13.90</td>\n",
       "      <td>0</td>\n",
       "    </tr>\n",
       "    <tr>\n",
       "      <th>2015-01-05</th>\n",
       "      <td>14.54</td>\n",
       "      <td>15.29</td>\n",
       "      <td>14.50</td>\n",
       "      <td>14.91</td>\n",
       "      <td>656083500</td>\n",
       "    </tr>\n",
       "    <tr>\n",
       "      <th>2015-01-06</th>\n",
       "      <td>14.60</td>\n",
       "      <td>14.99</td>\n",
       "      <td>14.05</td>\n",
       "      <td>14.36</td>\n",
       "      <td>334634600</td>\n",
       "    </tr>\n",
       "    <tr>\n",
       "      <th>2015-01-07</th>\n",
       "      <td>14.26</td>\n",
       "      <td>14.50</td>\n",
       "      <td>14.00</td>\n",
       "      <td>14.23</td>\n",
       "      <td>264205100</td>\n",
       "    </tr>\n",
       "    <tr>\n",
       "      <th>...</th>\n",
       "      <td>...</td>\n",
       "      <td>...</td>\n",
       "      <td>...</td>\n",
       "      <td>...</td>\n",
       "      <td>...</td>\n",
       "    </tr>\n",
       "    <tr>\n",
       "      <th>2015-04-22</th>\n",
       "      <td>14.50</td>\n",
       "      <td>14.92</td>\n",
       "      <td>14.41</td>\n",
       "      <td>14.88</td>\n",
       "      <td>446876300</td>\n",
       "    </tr>\n",
       "    <tr>\n",
       "      <th>2015-04-23</th>\n",
       "      <td>15.15</td>\n",
       "      <td>15.25</td>\n",
       "      <td>14.65</td>\n",
       "      <td>14.76</td>\n",
       "      <td>471733100</td>\n",
       "    </tr>\n",
       "    <tr>\n",
       "      <th>2015-04-24</th>\n",
       "      <td>14.48</td>\n",
       "      <td>14.70</td>\n",
       "      <td>14.15</td>\n",
       "      <td>14.42</td>\n",
       "      <td>362066200</td>\n",
       "    </tr>\n",
       "    <tr>\n",
       "      <th>2015-04-27</th>\n",
       "      <td>14.41</td>\n",
       "      <td>14.70</td>\n",
       "      <td>14.30</td>\n",
       "      <td>14.70</td>\n",
       "      <td>422562000</td>\n",
       "    </tr>\n",
       "    <tr>\n",
       "      <th>2015-04-28</th>\n",
       "      <td>14.65</td>\n",
       "      <td>14.66</td>\n",
       "      <td>14.11</td>\n",
       "      <td>14.19</td>\n",
       "      <td>386603900</td>\n",
       "    </tr>\n",
       "  </tbody>\n",
       "</table>\n",
       "<p>84 rows × 5 columns</p>\n",
       "</div>"
      ],
      "text/plain": [
       "             Open   High    Low  Close     Volume\n",
       "Date                                             \n",
       "2015-01-01  13.90  13.90  13.90  13.90          0\n",
       "2015-01-02  13.90  13.90  13.90  13.90          0\n",
       "2015-01-05  14.54  15.29  14.50  14.91  656083500\n",
       "2015-01-06  14.60  14.99  14.05  14.36  334634600\n",
       "2015-01-07  14.26  14.50  14.00  14.23  264205100\n",
       "...           ...    ...    ...    ...        ...\n",
       "2015-04-22  14.50  14.92  14.41  14.88  446876300\n",
       "2015-04-23  15.15  15.25  14.65  14.76  471733100\n",
       "2015-04-24  14.48  14.70  14.15  14.42  362066200\n",
       "2015-04-27  14.41  14.70  14.30  14.70  422562000\n",
       "2015-04-28  14.65  14.66  14.11  14.19  386603900\n",
       "\n",
       "[84 rows x 5 columns]"
      ]
     },
     "execution_count": 32,
     "metadata": {},
     "output_type": "execute_result"
    }
   ],
   "source": [
    "Vanke['2015']  # 时期设为索引时可以通过这种格式来筛选"
   ]
  },
  {
   "cell_type": "code",
   "execution_count": 33,
   "metadata": {},
   "outputs": [
    {
     "name": "stderr",
     "output_type": "stream",
     "text": [
      "D:\\Programing\\Anaconda3\\lib\\site-packages\\pandas\\core\\indexing.py:1596: SettingWithCopyWarning: \n",
      "A value is trying to be set on a copy of a slice from a DataFrame.\n",
      "Try using .loc[row_indexer,col_indexer] = value instead\n",
      "\n",
      "See the caveats in the documentation: https://pandas.pydata.org/pandas-docs/stable/user_guide/indexing.html#returning-a-view-versus-a-copy\n",
      "  self.obj[key] = _infer_fill_value(value)\n",
      "D:\\Programing\\Anaconda3\\lib\\site-packages\\pandas\\core\\indexing.py:1745: SettingWithCopyWarning: \n",
      "A value is trying to be set on a copy of a slice from a DataFrame.\n",
      "Try using .loc[row_indexer,col_indexer] = value instead\n",
      "\n",
      "See the caveats in the documentation: https://pandas.pydata.org/pandas-docs/stable/user_guide/indexing.html#returning-a-view-versus-a-copy\n",
      "  isetter(ilocs[0], value)\n",
      "D:\\Programing\\Anaconda3\\lib\\site-packages\\matplotlib\\backends\\backend_agg.py:214: RuntimeWarning: Glyph 8722 missing from current font.\n",
      "  font.set_text(s, 0.0, flags=flags)\n",
      "D:\\Programing\\Anaconda3\\lib\\site-packages\\matplotlib\\backends\\backend_agg.py:183: RuntimeWarning: Glyph 8722 missing from current font.\n",
      "  font.set_text(s, 0, flags=flags)\n"
     ]
    },
    {
     "data": {
      "image/png": "[encoded data removed]",
      "text/plain": [
       "<Figure size 1152x720 with 2 Axes>"
      ]
     },
     "metadata": {
      "needs_background": "light"
     },
     "output_type": "display_data"
    }
   ],
   "source": [
    "#Candle 模组是自己编的模组，里面有绘制K线函数Candleplot\n",
    "plt.rcParams['figure.figsize'] = (16, 10)\n",
    "import candle\n",
    "Vanke15 = Vanke['2015']\n",
    "candle.candleLinePlots(Vanke['2015'],\\\n",
    "               candleTitle='万科股票2015年日K线图',\\\n",
    "               splitFigures=True,Data=momen35['2015'],\\\n",
    "               title='35日动量',ylabel='35日动量')"
   ]
  },
  {
   "cell_type": "code",
   "execution_count": 35,
   "metadata": {},
   "outputs": [
    {
     "data": {
      "text/plain": [
       "Date\n",
       "2014-02-20   -0.71\n",
       "2014-02-21   -0.83\n",
       "2014-02-24   -1.15\n",
       "2014-02-25   -0.91\n",
       "2014-02-26   -0.75\n",
       "Name: Close, dtype: float64"
      ]
     },
     "execution_count": 35,
     "metadata": {},
     "output_type": "execute_result"
    }
   ],
   "source": [
    "Close = Vanke.Close\n",
    "momen35 = momentum(Close, 35)\n",
    "momen35.head()"
   ]
  },
  {
   "cell_type": "code",
   "execution_count": 36,
   "metadata": {},
   "outputs": [],
   "source": [
    "signal = []  #用于存放买入卖出信号\n",
    "# 当动能为负数 信号取 -1 表示卖出\n",
    "# 当动能为正数 信号取  1 表示买入"
   ]
  },
  {
   "cell_type": "code",
   "execution_count": 37,
   "metadata": {},
   "outputs": [
    {
     "data": {
      "text/plain": [
       "Date\n",
       "2014-02-20   -1\n",
       "2014-02-21   -1\n",
       "2014-02-24   -1\n",
       "2014-02-25   -1\n",
       "2014-02-26   -1\n",
       "dtype: int64"
      ]
     },
     "execution_count": 37,
     "metadata": {},
     "output_type": "execute_result"
    }
   ],
   "source": [
    "for i in momen35:\n",
    "    if i > 0:\n",
    "        signal.append(1)\n",
    "    else:\n",
    "        signal.append(-1)\n",
    "\n",
    "signal = pd.Series(signal, index=momen35.index)\n",
    "signal.head()"
   ]
  },
  {
   "cell_type": "code",
   "execution_count": 46,
   "metadata": {},
   "outputs": [
    {
     "data": {
      "text/plain": [
       " 1    233\n",
       "-1     76\n",
       "dtype: int64"
      ]
     },
     "execution_count": 46,
     "metadata": {},
     "output_type": "execute_result"
    }
   ],
   "source": [
    "signal.value_counts()"
   ]
  },
  {
   "cell_type": "markdown",
   "metadata": {},
   "source": [
    "根据买入卖出信号，制定买入卖出策略，并回测计算收益率"
   ]
  },
  {
   "cell_type": "code",
   "execution_count": 38,
   "metadata": {},
   "outputs": [
    {
     "data": {
      "text/plain": [
       "Date\n",
       "2014-01-01   NaN\n",
       "2014-01-02   NaN\n",
       "2014-01-03   NaN\n",
       "2014-01-06   NaN\n",
       "2014-01-07   NaN\n",
       "2014-01-08   NaN\n",
       "2014-01-09   NaN\n",
       "2014-01-10   NaN\n",
       "2014-01-13   NaN\n",
       "2014-01-14   NaN\n",
       "2014-01-15   NaN\n",
       "2014-01-16   NaN\n",
       "2014-01-17   NaN\n",
       "2014-01-20   NaN\n",
       "2014-01-21   NaN\n",
       "2014-01-22   NaN\n",
       "2014-01-23   NaN\n",
       "2014-01-24   NaN\n",
       "2014-01-27   NaN\n",
       "2014-01-28   NaN\n",
       "dtype: float64"
      ]
     },
     "execution_count": 38,
     "metadata": {},
     "output_type": "execute_result"
    }
   ],
   "source": [
    "tradeSig = signal.shift(1)\n",
    "ret = Close / Close.shift(1) - 1\n",
    "# ret=ret['2014-02-20':]\n",
    "# ret.head(n=3)\n",
    "Mom35Ret = ret * (signal.shift(1))\n",
    "Mom35Ret[0:20]"
   ]
  },
  {
   "cell_type": "code",
   "execution_count": 43,
   "metadata": {},
   "outputs": [
    {
     "data": {
      "text/plain": [
       "Date\n",
       "2014-01-01         NaN\n",
       "2014-01-02   -0.004981\n",
       "2014-01-03   -0.018773\n",
       "2014-01-06   -0.045918\n",
       "2014-01-07   -0.006684\n",
       "                ...   \n",
       "2015-04-22    0.027624\n",
       "2015-04-23   -0.008065\n",
       "2015-04-24   -0.023035\n",
       "2015-04-27    0.019417\n",
       "2015-04-28   -0.034694\n",
       "Name: Close, Length: 344, dtype: float64"
      ]
     },
     "execution_count": 43,
     "metadata": {},
     "output_type": "execute_result"
    }
   ],
   "source": [
    "ret"
   ]
  },
  {
   "cell_type": "code",
   "execution_count": 44,
   "metadata": {},
   "outputs": [
    {
     "data": {
      "text/plain": [
       "Date\n",
       "2014-01-01         NaN\n",
       "2014-01-02         NaN\n",
       "2014-01-03         NaN\n",
       "2014-01-06         NaN\n",
       "2014-01-07         NaN\n",
       "                ...   \n",
       "2015-04-22    0.027624\n",
       "2015-04-23   -0.008065\n",
       "2015-04-24   -0.023035\n",
       "2015-04-27    0.019417\n",
       "2015-04-28   -0.034694\n",
       "Length: 344, dtype: float64"
      ]
     },
     "execution_count": 44,
     "metadata": {},
     "output_type": "execute_result"
    }
   ],
   "source": [
    "Mom35Ret"
   ]
  },
  {
   "cell_type": "code",
   "execution_count": 39,
   "metadata": {},
   "outputs": [
    {
     "data": {
      "text/plain": [
       "0.43023255813953487"
      ]
     },
     "execution_count": 39,
     "metadata": {},
     "output_type": "execute_result"
    }
   ],
   "source": [
    "# 计算获胜率\n",
    "real_Mom35Ret = Mom35Ret[Mom35Ret != 0]\n",
    "real_ret = ret[ret != 0]\n",
    "\n",
    "win = Mom35Ret[Mom35Ret > 0]\n",
    "winrate = len(win) / len(Mom35Ret)\n",
    "winrate"
   ]
  },
  {
   "cell_type": "code",
   "execution_count": 40,
   "metadata": {},
   "outputs": [
    {
     "data": {
      "text/plain": [
       "Text(0.5, 1.0, '万科动量交易收益率时序图')"
      ]
     },
     "execution_count": 40,
     "metadata": {},
     "output_type": "execute_result"
    },
    {
     "data": {
      "image/png": "[encoded data removed]",
      "text/plain": [
       "<Figure size 1152x720 with 2 Axes>"
      ]
     },
     "metadata": {
      "needs_background": "light"
     },
     "output_type": "display_data"
    }
   ],
   "source": [
    "#绘制收益时序图\n",
    "plt.rcParams['figure.figsize'] = (16, 10)\n",
    "plt.rcParams['font.sans-serif'] = ['SimHei']\n",
    "plt.rcParams['axes.unicode_minus'] = False\n",
    "plt.subplot(2, 1, 1)\n",
    "plt.plot(real_ret, 'b')\n",
    "plt.ylabel('return')\n",
    "plt.title('万科收益率时序图')\n",
    "\n",
    "plt.subplot(2, 1, 2)\n",
    "plt.plot(Mom35Ret, 'r')\n",
    "plt.ylabel('Mom35Ret')\n",
    "plt.title('万科动量交易收益率时序图')"
   ]
  },
  {
   "cell_type": "code",
   "execution_count": 47,
   "metadata": {},
   "outputs": [
    {
     "data": {
      "text/plain": [
       "Text(0.5, 1.0, '损失直方图')"
      ]
     },
     "execution_count": 47,
     "metadata": {},
     "output_type": "execute_result"
    },
    {
     "data": {
      "image/png": "[encoded data removed]",
      "text/plain": [
       "<Figure size 1152x720 with 2 Axes>"
      ]
     },
     "metadata": {
      "needs_background": "light"
     },
     "output_type": "display_data"
    }
   ],
   "source": [
    "# 对比收益率\n",
    "plt.rcParams['figure.figsize'] = (16, 10)\n",
    "loss = -Mom35Ret[Mom35Ret < 0]\n",
    "plt.subplot(2, 1, 1)\n",
    "win.hist()\n",
    "plt.title(\"盈利直方图\")\n",
    "\n",
    "plt.subplot(2, 1, 2)\n",
    "loss.hist()\n",
    "plt.title(\"损失直方图\")"
   ]
  },
  {
   "cell_type": "code",
   "execution_count": 48,
   "metadata": {},
   "outputs": [
    {
     "data": {
      "text/html": [
       "<div>\n",
       "<style scoped>\n",
       "    .dataframe tbody tr th:only-of-type {\n",
       "        vertical-align: middle;\n",
       "    }\n",
       "\n",
       "    .dataframe tbody tr th {\n",
       "        vertical-align: top;\n",
       "    }\n",
       "\n",
       "    .dataframe thead th {\n",
       "        text-align: right;\n",
       "    }\n",
       "</style>\n",
       "<table border=\"1\" class=\"dataframe\">\n",
       "  <thead>\n",
       "    <tr style=\"text-align: right;\">\n",
       "      <th></th>\n",
       "      <th>win</th>\n",
       "      <th>loss</th>\n",
       "    </tr>\n",
       "  </thead>\n",
       "  <tbody>\n",
       "    <tr>\n",
       "      <th>count</th>\n",
       "      <td>148.000000</td>\n",
       "      <td>136.000000</td>\n",
       "    </tr>\n",
       "    <tr>\n",
       "      <th>mean</th>\n",
       "      <td>0.018646</td>\n",
       "      <td>0.018514</td>\n",
       "    </tr>\n",
       "    <tr>\n",
       "      <th>std</th>\n",
       "      <td>0.018261</td>\n",
       "      <td>0.015860</td>\n",
       "    </tr>\n",
       "    <tr>\n",
       "      <th>min</th>\n",
       "      <td>0.000769</td>\n",
       "      <td>0.000805</td>\n",
       "    </tr>\n",
       "    <tr>\n",
       "      <th>25%</th>\n",
       "      <td>0.005472</td>\n",
       "      <td>0.008214</td>\n",
       "    </tr>\n",
       "    <tr>\n",
       "      <th>50%</th>\n",
       "      <td>0.013444</td>\n",
       "      <td>0.015996</td>\n",
       "    </tr>\n",
       "    <tr>\n",
       "      <th>75%</th>\n",
       "      <td>0.024786</td>\n",
       "      <td>0.022360</td>\n",
       "    </tr>\n",
       "    <tr>\n",
       "      <th>max</th>\n",
       "      <td>0.099684</td>\n",
       "      <td>0.099852</td>\n",
       "    </tr>\n",
       "  </tbody>\n",
       "</table>\n",
       "</div>"
      ],
      "text/plain": [
       "              win        loss\n",
       "count  148.000000  136.000000\n",
       "mean     0.018646    0.018514\n",
       "std      0.018261    0.015860\n",
       "min      0.000769    0.000805\n",
       "25%      0.005472    0.008214\n",
       "50%      0.013444    0.015996\n",
       "75%      0.024786    0.022360\n",
       "max      0.099684    0.099852"
      ]
     },
     "execution_count": 48,
     "metadata": {},
     "output_type": "execute_result"
    }
   ],
   "source": [
    "performance=pd.DataFrame({\"win\": win.describe(),\\\n",
    "\"loss\": loss.describe()})\n",
    "performance"
   ]
  },
  {
   "cell_type": "code",
   "execution_count": null,
   "metadata": {},
   "outputs": [],
   "source": []
  }
 ],
 "metadata": {
  "kernelspec": {
   "display_name": "Python 3",
   "language": "python",
   "name": "python3"
  },
  "language_info": {
   "codemirror_mode": {
    "name": "ipython",
    "version": 3
   },
   "file_extension": ".py",
   "mimetype": "text/x-python",
   "name": "python",
   "nbconvert_exporter": "python",
   "pygments_lexer": "ipython3",
   "version": "3.7.6"
  }
 },
 "nbformat": 4,
 "nbformat_minor": 4
}
