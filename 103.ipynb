{
 "cells": [
  {
   "cell_type": "code",
   "execution_count": null,
   "metadata": {},
   "outputs": [],
   "source": [
    "def weekly(context):\n",
    "    print 'weekly %s %s' % (context.current_dt，context.current_dt.isoweekday())\n",
    "def monthly(context):\n",
    "    print 'monthly %s %s' % (context.current_dt，context.current_dt.month)\n",
    "def daily(context):\n",
    "    print 'daily %s' % context.current_dt"
   ]
  },
  {
   "cell_type": "code",
   "execution_count": null,
   "metadata": {},
   "outputs": [],
   "source": [
    "def initialize(context):\n",
    "    # 指定每月第一个交易日，在开盘后十分钟执行，即9:40\n",
    "    run_monthly(monthly，1，'open+10m')\n",
    "    # 指定每周倒数第一个交易日，在开盘前执行，即9:00\n",
    "    run_weekly(weekly，-1，'before_open')\n",
    "    # 指定每天收盘前10分钟运行，即14：50\n",
    "    run_weekly(daily，'close - 10m')\n",
    "    # 指定每天收盘后执行，即15：30\n",
    "    run_daily(daily，'after_close')\n",
    "    # 指定在每天的10:00运行\n",
    "    run_daily(daily，'10:00')\n",
    "    # 指定在每天的01:00运行\n",
    "    run_daily(daily，'01:00')\n",
    "    # 参照股指期货的时间每分钟运行一次，必须选择分钟回测，否则每天执行\n",
    "    run_daily(daily，'every_bar'，reference_security='IF1512.CCFX')"
   ]
  },
  {
   "cell_type": "code",
   "execution_count": null,
   "metadata": {},
   "outputs": [],
   "source": [
    "order('000001.XSHG',100)"
   ]
  },
  {
   "cell_type": "code",
   "execution_count": null,
   "metadata": {},
   "outputs": [],
   "source": [
    "order('000001.XSHE', 100, MarketOrderStyle()) # 下一个市价单, 功能同上"
   ]
  },
  {
   "cell_type": "code",
   "execution_count": null,
   "metadata": {},
   "outputs": [],
   "source": [
    "order('000001.XSHE', 100, LimitOrderStyle(10.0)) # 以10块价格下一个限价单"
   ]
  },
  {
   "cell_type": "code",
   "execution_count": null,
   "metadata": {},
   "outputs": [],
   "source": [
    "# 卖出平安银行所有股票\n",
    "order_target('000001.XSHE', 0)"
   ]
  },
  {
   "cell_type": "code",
   "execution_count": null,
   "metadata": {},
   "outputs": [],
   "source": [
    "# 买入平安银行所有股票到100股\n",
    "order_target('000001.XSHE', 100)"
   ]
  },
  {
   "cell_type": "code",
   "execution_count": null,
   "metadata": {},
   "outputs": [],
   "source": [
    "#卖出价值为10000元的平安银行股票\n",
    "order_value('000001.XSHE', -10000)"
   ]
  },
  {
   "cell_type": "code",
   "execution_count": null,
   "metadata": {},
   "outputs": [],
   "source": [
    "#买入价值为10000元的平安银行股票\n",
    "order_value('000001.XSHE', 10000)"
   ]
  },
  {
   "cell_type": "code",
   "execution_count": null,
   "metadata": {},
   "outputs": [],
   "source": [
    "\n",
    "#卖出平安银行所有股票\n",
    "order_target_value('000001.XSHE', 0)"
   ]
  },
  {
   "cell_type": "code",
   "execution_count": null,
   "metadata": {},
   "outputs": [],
   "source": [
    "#调整平安银行股票仓位到10000元价值\n",
    "order_target_value('000001.XSHE', 10000)"
   ]
  },
  {
   "cell_type": "code",
   "execution_count": null,
   "metadata": {},
   "outputs": [],
   "source": [
    "cancel_order(_order)"
   ]
  },
  {
   "cell_type": "code",
   "execution_count": null,
   "metadata": {},
   "outputs": [],
   "source": [
    "#自定义每个交易日结束运行函数\n",
    "def after_trading_end(context):\n",
    "    #得到当天所有订单\n",
    "    orders = get_orders()\n",
    "    for _order in orders.values():\n",
    "        log.info(_order.order_id)\n",
    "    # 根据订单id查询订单\n",
    "    get_orders(order_id='1517627499')\n",
    "    # 查询所有标的为 000002.XSHE 的订单\n",
    "    get_orders(security='000002.XSHE')\n",
    "    # 查询订单状态为 OrderStatus.held 的所有订单\n",
    "    get_orders(status=OrderStatus.held)\n",
    "    # 查询标的为 000002.XSHE 且状态为 OrderStatus.held 的所有订单\n",
    "    get_orders(security='000002.XSHE'，status=OrderStatus.held)"
   ]
  },
  {
   "cell_type": "code",
   "execution_count": null,
   "metadata": {},
   "outputs": [],
   "source": [
    "#每个交易日结束运行\n",
    "def after_trading_end(context):\n",
    "    # 得到当前未完成订单\n",
    "    orders = get_open_orders()\n",
    "    # 循环，撤销订单\n",
    "    for _order in orders.values():\n",
    "        cancel_order(_order)"
   ]
  },
  {
   "cell_type": "code",
   "execution_count": null,
   "metadata": {},
   "outputs": [],
   "source": [
    "def handle_data(context，data):\n",
    "    #获得当前回测相关时间\n",
    "    year = context.current_dt.year\n",
    "    month = context.current_dt.month\n",
    "    day = context.current_dt.day\n",
    "    hour = context.current_dt.hour\n",
    "    minute = context.current_dt.minute\n",
    "    second = context.current_dt.second\n",
    "    #得到\"年-月-日\"格式\n",
    "    date = context.current_dt.strftime(\"%Y-%m-%d\")\n",
    "    #得到周几\n",
    "    weekday = context.current_dt.isoweekday()\n",
    "    # 获取账户的持仓价值\n",
    "    positions_value = context.portfolio.positions_value\n",
    "    # 获取仓位subportfolios[0]的可用资金\n",
    "    available_cash = context.subportfolios[0].available_cash\n",
    "    # 获取subportfolios[0]中多头仓位的security的持仓成本\n",
    "    hold_cost = context.subportfolios[0].long_positions[security].hold_cost"
   ]
  },
  {
   "cell_type": "code",
   "execution_count": null,
   "metadata": {},
   "outputs": [],
   "source": []
  },
  {
   "cell_type": "code",
   "execution_count": null,
   "metadata": {},
   "outputs": [],
   "source": []
  },
  {
   "cell_type": "code",
   "execution_count": null,
   "metadata": {},
   "outputs": [],
   "source": []
  },
  {
   "cell_type": "code",
   "execution_count": null,
   "metadata": {},
   "outputs": [],
   "source": []
  }
 ],
 "metadata": {
  "kernelspec": {
   "display_name": "Python 3",
   "language": "python",
   "name": "python3"
  },
  "language_info": {
   "codemirror_mode": {
    "name": "ipython",
    "version": 3
   },
   "file_extension": ".py",
   "mimetype": "text/x-python",
   "name": "python",
   "nbconvert_exporter": "python",
   "pygments_lexer": "ipython3",
   "version": "3.6.7"
  },
  "toc": {
   "base_numbering": 1,
   "nav_menu": {},
   "number_sections": false,
   "sideBar": true,
   "skip_h1_title": false,
   "title_cell": "MarkDown菜单",
   "title_sidebar": "Contents",
   "toc_cell": false,
   "toc_position": {},
   "toc_section_display": true,
   "toc_window_display": false
  }
 },
 "nbformat": 4,
 "nbformat_minor": 2
}
