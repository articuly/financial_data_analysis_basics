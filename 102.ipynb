{
 "cells": [
  {
   "cell_type": "code",
   "execution_count": null,
   "metadata": {},
   "outputs": [],
   "source": [
    "def initialize(context):\n",
    "    # 设定沪深300作为基准\n",
    "    set_benchmark('000300.XSHG')\n",
    "    # 开启动态复权模式(真实价格)\n",
    "    set_option('use_real_price'，True)\n",
    "    # 输出内容到日志 log.info()\n",
    "    log.info('初始函数开始运行且全局只运行一次')\n",
    "   ### 股票相关设定 ###\n",
    "    # 股票类每笔交易时的手续费是：买入时佣金万分之三，卖出时佣金万分之三加千分之一印花税，每笔交易佣金最低扣5块钱\n",
    "    set_order_cost(OrderCost(close_tax=0.001，open_commission=0.0003，close_commission=0.0003，min_commission=5)，type='stock')\n",
    "    ## 运行函数（reference_security为运行时间的参考标的；传入的标的只做种类区分，因此传入'000300.XSHG'或'510300.XSHG'是一样的）\n",
    "      # 开盘前运行\n",
    "    run_daily(before_market_open，time='before_open'，reference_security='000300.XSHG') \n",
    "      # 开盘时运行\n",
    "    run_daily(market_open，time='open'，reference_security='000300.XSHG')\n",
    "      # 收盘后运行\n",
    "    run_daily(after_market_close，time='after_close'，reference_security='000300.XSHG')"
   ]
  },
  {
   "cell_type": "code",
   "execution_count": null,
   "metadata": {},
   "outputs": [],
   "source": [
    "def before_market_open(context):\n",
    "    # 输出运行时间\n",
    "    log.info('函数运行时间(before_market_open)：'+str(context.current_dt.time()))\n",
    "    # 给微信发送消息（添加模拟交易，并绑定微信生效）\n",
    "    send_message('美好的一天~')\n",
    "    # 要操作的股票：平安银行（g.为全局变量）\n",
    "    g.security = '000001.XSHE'\n"
   ]
  },
  {
   "cell_type": "code",
   "execution_count": null,
   "metadata": {},
   "outputs": [],
   "source": [
    "def after_market_close(context):\n",
    "    log.info(str('函数运行时间(after_market_close):'+str(context.current_dt.time())))\n",
    "    #得到当天所有成交记录\n",
    "    trades = get_trades()\n",
    "    for _trade in trades.values():\n",
    "        log.info('成交记录：'+str(_trade))\n",
    "    log.info('一天结束')\n",
    "log.info('##############################################################')\n"
   ]
  },
  {
   "cell_type": "code",
   "execution_count": null,
   "metadata": {},
   "outputs": [],
   "source": [
    "def market_open(context):\n",
    "    log.info('函数运行时间(market_open):'+str(context.current_dt.time()))\n",
    "    security = g.security\n",
    "    # 获取股票的收盘价\n",
    "    close_data = attribute_history(security，5，'1d'，['close'])\n",
    "    # 取得过去五天的平均价格\n",
    "    MA5 = close_data['close'].mean()\n",
    "    # 取得上一时间的点价格\n",
    "    current_price = close_data['close'][-1]\n",
    "    # 取得当前的现金\n",
    "    cash = context.portfolio.available_cash\n",
    "    # 如果上一时间点价格高出五天平均价1%，则全仓买入\n",
    "    if current_price > 1.01*MA5:\n",
    "        # 记录这次买入\n",
    "        log.info(\"价格高于均价 1%%，买入 %s\" % (security))\n",
    "        # 用所有 cash 买入股票\n",
    "        order_value(security，cash)\n",
    "    # 如果上一时间点价格低于五天平均价，则全部卖出\n",
    "    elif current_price < MA5 and context.portfolio.positions[security].closeable_amount > 0:\n",
    "        # 记录这次卖出\n",
    "        log.info(\"价格低于均价，卖出 %s\" % (security))\n",
    "        # 卖出所有股票,使这只股票的最终持有量为0\n",
    "        order_target(security，0)\n"
   ]
  },
  {
   "cell_type": "code",
   "execution_count": null,
   "metadata": {},
   "outputs": [],
   "source": []
  },
  {
   "cell_type": "code",
   "execution_count": null,
   "metadata": {},
   "outputs": [],
   "source": []
  },
  {
   "cell_type": "code",
   "execution_count": null,
   "metadata": {},
   "outputs": [],
   "source": []
  },
  {
   "cell_type": "code",
   "execution_count": null,
   "metadata": {},
   "outputs": [],
   "source": []
  }
 ],
 "metadata": {
  "kernelspec": {
   "display_name": "Python 3",
   "language": "python",
   "name": "python3"
  },
  "language_info": {
   "codemirror_mode": {
    "name": "ipython",
    "version": 3
   },
   "file_extension": ".py",
   "mimetype": "text/x-python",
   "name": "python",
   "nbconvert_exporter": "python",
   "pygments_lexer": "ipython3",
   "version": "3.6.7"
  },
  "toc": {
   "base_numbering": 1,
   "nav_menu": {},
   "number_sections": false,
   "sideBar": true,
   "skip_h1_title": false,
   "title_cell": "MarkDown菜单",
   "title_sidebar": "Contents",
   "toc_cell": false,
   "toc_position": {},
   "toc_section_display": true,
   "toc_window_display": false
  }
 },
 "nbformat": 4,
 "nbformat_minor": 2
}
